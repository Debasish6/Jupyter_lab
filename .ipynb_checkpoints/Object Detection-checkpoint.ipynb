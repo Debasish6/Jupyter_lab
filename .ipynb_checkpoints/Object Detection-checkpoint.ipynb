{
 "cells": [
  {
   "cell_type": "markdown",
   "id": "a94abd6d-9c32-4429-8c05-dc4d4260fb92",
   "metadata": {},
   "source": [
    "# Object Detection using OpenCV"
   ]
  },
  {
   "cell_type": "code",
   "execution_count": null,
   "id": "e3ad6190-0624-43f3-beff-7ab0972dd5e0",
   "metadata": {},
   "outputs": [],
   "source": [
    "# Importing Imaportant Libraries\n",
    "import cv2\n",
    "import mat"
   ]
  }
 ],
 "metadata": {
  "kernelspec": {
   "display_name": "Python 3 (ipykernel)",
   "language": "python",
   "name": "python3"
  },
  "language_info": {
   "codemirror_mode": {
    "name": "ipython",
    "version": 3
   },
   "file_extension": ".py",
   "mimetype": "text/x-python",
   "name": "python",
   "nbconvert_exporter": "python",
   "pygments_lexer": "ipython3",
   "version": "3.11.9"
  }
 },
 "nbformat": 4,
 "nbformat_minor": 5
}
