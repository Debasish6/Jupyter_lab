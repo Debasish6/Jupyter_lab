{
 "cells": [
  {
   "cell_type": "code",
   "execution_count": 1,
   "id": "a9b30cd3-acd8-42a9-bdd7-a76e3853cede",
   "metadata": {},
   "outputs": [
    {
     "name": "stdout",
     "output_type": "stream",
     "text": [
      "Hello\n"
     ]
    }
   ],
   "source": [
    "print(\"Hello\")"
   ]
  },
  {
   "cell_type": "code",
   "execution_count": 8,
   "id": "ab23afda-1483-4e59-93b0-1c22e7b4f811",
   "metadata": {},
   "outputs": [
    {
     "name": "stdin",
     "output_type": "stream",
     "text": [
      "Enter the Range: 30\n"
     ]
    },
    {
     "name": "stdout",
     "output_type": "stream",
     "text": [
      "##############################\n",
      "##############  ##############\n",
      "#############    #############\n",
      "############      ############\n",
      "###########        ###########\n",
      "##########          ##########\n",
      "#########            #########\n",
      "########              ########\n",
      "#######                #######\n",
      "######                  ######\n",
      "#####                    #####\n",
      "####                      ####\n",
      "###                        ###\n",
      "##                          ##\n",
      "#                            #\n",
      "#                            #\n",
      "##                          ##\n",
      "###                        ###\n",
      "####                      ####\n",
      "#####                    #####\n",
      "######                  ######\n",
      "#######                #######\n",
      "########              ########\n",
      "#########            #########\n",
      "##########          ##########\n",
      "###########        ###########\n",
      "############      ############\n",
      "#############    #############\n",
      "##############  ##############\n",
      "##############################\n"
     ]
    }
   ],
   "source": [
    "n=int(input(\"Enter the Range:\"))\n",
    "i,k=1,0\n",
    "while i<=n/2:\n",
    "    j=1\n",
    "    while j<=n/2-i+1:\n",
    "        print(\"#\",end='')\n",
    "        j=j+1\n",
    "    m=1\n",
    "    while m<=k:\n",
    "        print(end=' ')\n",
    "        m=m+1\n",
    "    j=1\n",
    "    while j<=n/2-i+1:\n",
    "        print(\"#\",end='')\n",
    "        j=j+1\n",
    "    k=k+2\n",
    "    i=i+1\n",
    "    print()\n",
    "\n",
    "i=1\n",
    "k=k-2\n",
    "while i<=n/2:\n",
    "    j=1\n",
    "    while j<=i:\n",
    "        print(\"#\",end='')\n",
    "        j=j+1\n",
    "    m=1\n",
    "    while m<=k:\n",
    "        print(end=' ')\n",
    "        m=m+1\n",
    "    j=1\n",
    "    while j<=i:\n",
    "        print(\"#\",end='')\n",
    "        j=j+1\n",
    "    k=k-2\n",
    "    i=i+1\n",
    "    print()\n"
   ]
  },
  {
   "cell_type": "code",
   "execution_count": null,
   "id": "751d7da3-f33f-46ca-ba20-cc57731c690a",
   "metadata": {},
   "outputs": [],
   "source": []
  }
 ],
 "metadata": {
  "kernelspec": {
   "display_name": "Python 3 (ipykernel)",
   "language": "python",
   "name": "python3"
  },
  "language_info": {
   "codemirror_mode": {
    "name": "ipython",
    "version": 3
   },
   "file_extension": ".py",
   "mimetype": "text/x-python",
   "name": "python",
   "nbconvert_exporter": "python",
   "pygments_lexer": "ipython3",
   "version": "3.10.0"
  }
 },
 "nbformat": 4,
 "nbformat_minor": 5
}
