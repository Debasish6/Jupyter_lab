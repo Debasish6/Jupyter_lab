{
 "cells": [
  {
   "cell_type": "markdown",
   "id": "3189d38b-ceac-4a55-b25f-f19f1ee7e8f1",
   "metadata": {},
   "source": [
    "# Importing Numpy"
   ]
  },
  {
   "cell_type": "code",
   "execution_count": 5,
   "id": "f45c70e1-d6e3-4b18-8b7f-dba52a31c05e",
   "metadata": {},
   "outputs": [],
   "source": [
    "import numpy as np"
   ]
  },
  {
   "cell_type": "markdown",
   "id": "9c9f82af-ffa4-4e97-90b6-c989e637003e",
   "metadata": {},
   "source": [
    "# Construct a Matrix"
   ]
  },
  {
   "cell_type": "code",
   "execution_count": 6,
   "id": "1db3b750-409f-4b91-9410-e5195bec99c1",
   "metadata": {},
   "outputs": [],
   "source": [
    "A = np.array([\n",
    "    [1,0],\n",
    "    [0,1]\n",
    "],dtype=np.dtype(float))"
   ]
  },
  {
   "cell_type": "code",
   "execution_count": 7,
   "id": "d1e5934d-7b8d-45fe-b1e3-ce01b33d18f6",
   "metadata": {},
   "outputs": [
    {
     "name": "stdout",
     "output_type": "stream",
     "text": [
      "[[1. 0.]\n",
      " [0. 1.]]\n"
     ]
    }
   ],
   "source": [
    "print(A)"
   ]
  },
  {
   "cell_type": "markdown",
   "id": "1752218a-303a-4227-9cee-2089ff6aa80d",
   "metadata": {},
   "source": [
    "# Construct a Vector"
   ]
  },
  {
   "cell_type": "code",
   "execution_count": 10,
   "id": "cc7e8807-7543-4028-ae33-6d1be1255f02",
   "metadata": {},
   "outputs": [],
   "source": [
    "b = np.array([5,3])"
   ]
  },
  {
   "cell_type": "code",
   "execution_count": 11,
   "id": "6c655fec-399d-47a6-9323-c51b9a76564d",
   "metadata": {},
   "outputs": [
    {
     "name": "stdout",
     "output_type": "stream",
     "text": [
      "[5 3]\n"
     ]
    }
   ],
   "source": [
    "print(b)"
   ]
  },
  {
   "cell_type": "code",
   "execution_count": null,
   "id": "26afa86f-6afd-433d-b03d-b5c36f203d5a",
   "metadata": {},
   "outputs": [],
   "source": []
  }
 ],
 "metadata": {
  "kernelspec": {
   "display_name": "Python 3 (ipykernel)",
   "language": "python",
   "name": "python3"
  },
  "language_info": {
   "codemirror_mode": {
    "name": "ipython",
    "version": 3
   },
   "file_extension": ".py",
   "mimetype": "text/x-python",
   "name": "python",
   "nbconvert_exporter": "python",
   "pygments_lexer": "ipython3",
   "version": "3.11.9"
  }
 },
 "nbformat": 4,
 "nbformat_minor": 5
}
