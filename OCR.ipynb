{
 "cells": [
  {
   "cell_type": "code",
   "execution_count": 2,
   "id": "1ac30ba4-c442-486c-807c-a720cb710d1a",
   "metadata": {},
   "outputs": [],
   "source": [
    "import pytesseract\n",
    "pytesseract.pytesseract.tesseract_cmd = r'C:\\\\Program Files\\\\Tesseract-OCR\\\\tesseract.exe'\n",
    "from PIL import Image\n",
    "import numpy as np\n",
    "import cv2"
   ]
  },
  {
   "cell_type": "code",
   "execution_count": 135,
   "id": "9338b6b7-12ab-44f6-8f43-b1e02e31ad96",
   "metadata": {},
   "outputs": [],
   "source": [
    "im_file = \"data/page_01.jpg\"\n",
    "image = cv2.imread(im_file)"
   ]
  },
  {
   "cell_type": "code",
   "execution_count": 112,
   "id": "c927ca57-177b-480c-94d2-aba24d3beb04",
   "metadata": {},
   "outputs": [
    {
     "name": "stdout",
     "output_type": "stream",
     "text": [
      "Converted to grayscale image.\n"
     ]
    },
    {
     "data": {
      "text/plain": [
       "-1"
      ]
     },
     "execution_count": 112,
     "metadata": {},
     "output_type": "execute_result"
    }
   ],
   "source": [
    "gray_image = cv2.cvtColor(image, cv2.COLOR_BGR2GRAY)\n",
    "print(\"Converted to grayscale image.\")\n",
    "cv2.imshow(\"img\",gray_image)\n",
    "cv2.waitKey(0)"
   ]
  },
  {
   "cell_type": "code",
   "execution_count": 52,
   "id": "60f858da-ec1d-4c63-b595-c2c5d1d8f89a",
   "metadata": {},
   "outputs": [
    {
     "name": "stdout",
     "output_type": "stream",
     "text": [
      "Threshold Applied sucessfully.\n"
     ]
    },
    {
     "data": {
      "text/plain": [
       "-1"
      ]
     },
     "execution_count": 52,
     "metadata": {},
     "output_type": "execute_result"
    }
   ],
   "source": [
    "thresh=cv2.threshold(gray_image,200,230,cv2.THRESH_BINARY)[1]\n",
    "print(\"Threshold Applied sucessfully.\")\n",
    "cv2.imshow(\"img\",thresh)\n",
    "cv2.waitKey(0)"
   ]
  },
  {
   "cell_type": "code",
   "execution_count": 5,
   "id": "fa07308f-db5c-4483-8f4f-85cbffc798a1",
   "metadata": {},
   "outputs": [],
   "source": [
    "\n",
    "def thick_font(image):\n",
    "    image = cv2.bitwise_not(thresh)\n",
    "    kernel = np.ones((1,2),np.uint8)\n",
    "    image = cv2.dilate(image,kernel, iterations=1)\n",
    "    image = cv2.bitwise_not(image)\n",
    "    return image\n",
    "    \n"
   ]
  },
  {
   "cell_type": "code",
   "execution_count": 6,
   "id": "d67bc352-c00c-4018-b7a7-90f8fa905873",
   "metadata": {},
   "outputs": [
    {
     "data": {
      "text/plain": [
       "-1"
      ]
     },
     "execution_count": 6,
     "metadata": {},
     "output_type": "execute_result"
    }
   ],
   "source": [
    "dilated_image =thick_font(thresh)\n",
    "cv2.imshow(\"img\",dilated_image)\n",
    "cv2.waitKey(0)"
   ]
  },
  {
   "cell_type": "code",
   "execution_count": 7,
   "id": "108b508f-0896-4046-a568-fb4a090b7231",
   "metadata": {},
   "outputs": [
    {
     "data": {
      "text/plain": [
       "\"The Life and Work of\\nFredson Bowers\\n\\nby\\nG. THOMAS TANSELLE\\n\\n'M EVERY FIELD OF ENDEAVOR THERE ARE 4 FEW FIGURES WHOSE ACCOM-\\nplishment and influence cause them to be the symbols of their age;\\ntheir careers and ocuvres become the touchstones by which the\\nfield is measured and its history told. In the related pursuits of\\n\\nanalytical and descriptive bibliography, textual criticism, and scholarly\\nediting, Fredson Bowers was such 2 figure, dominating the four decades\\nafter 1949, when his Principles of Bibliographical Description was pub-\\nlished. By 197g the period was already being called “the age of Bowers”:\\nin that year Norman Sanders, writing the chapter on textual scholarship\\nfor Stanley Wells's Shakespeare: Select Bibliographies, gave this title to\\na section of his essay. For most people, it would be achievement enough\\nto rise to such 2 position in a field as complex as Shakespearean textual\\nstudies; but Bowers played an equally important role in other areas.\\nEditors of nincteenthcentury American authors, for example, would\\nalso have to call the recent past “the age of Bowers,” as would the writers\\nof descriptive bibliographies of authors and presses. His ubiquity in\\nthe broad ficld of bibliographical and textual study, his seemingly com-\\nplete possession of it, distinguished him from his illustrious predeces-\\nsors and made him the personification of bibliographical scholarship in\\nhis time.\\n\\n‘When in 1969 Bowers was awarded the Gold Medal of the Biblio-\\ngraphical Society in London, John Carter’s citation referred to the\\nPrinciples as “majestic,” called Bowers’s current projects “formidable,”\\nsaid that he had “imposed critical discipline” on the texts of several\\nauthors, described Studies in Bibliography as a “great and continuing\\nachievement,” and included among his characteristics “uncompromising\\nseriousness of purpose” and “professional intensity.” Bowers was not\\nunaccustomed to such encomia, but he had also experienced his share of\\nattacks: his scholarly positions were not universally popular, and he\\nexpressed them with an aggressiveness that almost seemed calculated to\\n\""
      ]
     },
     "execution_count": 7,
     "metadata": {},
     "output_type": "execute_result"
    }
   ],
   "source": [
    "decodec_text = pytesseract.image_to_string(dilated_image)\n",
    "decodec_text"
   ]
  },
  {
   "cell_type": "code",
   "execution_count": 10,
   "id": "295b3827-019f-4b9c-8c6b-5ff1f65a52d5",
   "metadata": {},
   "outputs": [],
   "source": [
    "lines = dict()\n",
    "i=0\n",
    "w=''\n",
    "for line in decodec_text:\n",
    "    w = w+line\n",
    "    if line == \"\\n\":\n",
    "        lines[i]=w\n",
    "        i=i+1\n",
    "        w=''"
   ]
  },
  {
   "cell_type": "code",
   "execution_count": 11,
   "id": "e7dcb996-4bc4-4c1d-9bd6-c4350dc3c945",
   "metadata": {},
   "outputs": [
    {
     "data": {
      "text/plain": [
       "{0: 'The Life and Work of\\n',\n",
       " 1: 'Fredson Bowers\\n',\n",
       " 2: '\\n',\n",
       " 3: 'by\\n',\n",
       " 4: 'G. THOMAS TANSELLE\\n',\n",
       " 5: '\\n',\n",
       " 6: \"'M EVERY FIELD OF ENDEAVOR THERE ARE 4 FEW FIGURES WHOSE ACCOM-\\n\",\n",
       " 7: 'plishment and influence cause them to be the symbols of their age;\\n',\n",
       " 8: 'their careers and ocuvres become the touchstones by which the\\n',\n",
       " 9: 'field is measured and its history told. In the related pursuits of\\n',\n",
       " 10: '\\n',\n",
       " 11: 'analytical and descriptive bibliography, textual criticism, and scholarly\\n',\n",
       " 12: 'editing, Fredson Bowers was such 2 figure, dominating the four decades\\n',\n",
       " 13: 'after 1949, when his Principles of Bibliographical Description was pub-\\n',\n",
       " 14: 'lished. By 197g the period was already being called “the age of Bowers”:\\n',\n",
       " 15: 'in that year Norman Sanders, writing the chapter on textual scholarship\\n',\n",
       " 16: \"for Stanley Wells's Shakespeare: Select Bibliographies, gave this title to\\n\",\n",
       " 17: 'a section of his essay. For most people, it would be achievement enough\\n',\n",
       " 18: 'to rise to such 2 position in a field as complex as Shakespearean textual\\n',\n",
       " 19: 'studies; but Bowers played an equally important role in other areas.\\n',\n",
       " 20: 'Editors of nincteenthcentury American authors, for example, would\\n',\n",
       " 21: 'also have to call the recent past “the age of Bowers,” as would the writers\\n',\n",
       " 22: 'of descriptive bibliographies of authors and presses. His ubiquity in\\n',\n",
       " 23: 'the broad ficld of bibliographical and textual study, his seemingly com-\\n',\n",
       " 24: 'plete possession of it, distinguished him from his illustrious predeces-\\n',\n",
       " 25: 'sors and made him the personification of bibliographical scholarship in\\n',\n",
       " 26: 'his time.\\n',\n",
       " 27: '\\n',\n",
       " 28: '‘When in 1969 Bowers was awarded the Gold Medal of the Biblio-\\n',\n",
       " 29: 'graphical Society in London, John Carter’s citation referred to the\\n',\n",
       " 30: 'Principles as “majestic,” called Bowers’s current projects “formidable,”\\n',\n",
       " 31: 'said that he had “imposed critical discipline” on the texts of several\\n',\n",
       " 32: 'authors, described Studies in Bibliography as a “great and continuing\\n',\n",
       " 33: 'achievement,” and included among his characteristics “uncompromising\\n',\n",
       " 34: 'seriousness of purpose” and “professional intensity.” Bowers was not\\n',\n",
       " 35: 'unaccustomed to such encomia, but he had also experienced his share of\\n',\n",
       " 36: 'attacks: his scholarly positions were not universally popular, and he\\n',\n",
       " 37: 'expressed them with an aggressiveness that almost seemed calculated to\\n'}"
      ]
     },
     "execution_count": 11,
     "metadata": {},
     "output_type": "execute_result"
    }
   ],
   "source": [
    "lines"
   ]
  },
  {
   "cell_type": "code",
   "execution_count": 12,
   "id": "4562dd7c",
   "metadata": {},
   "outputs": [
    {
     "name": "stdout",
     "output_type": "stream",
     "text": [
      "{0: 'The Life and Work of\\n', 1: 'Fredson Bowers\\n', 2: '\\n', 3: 'by\\n', 4: 'G. THOMAS TANSELLE\\n', 5: '\\n', 6: \"'M EVERY FIELD OF ENDEAVOR THERE ARE 4 FEW FIGURES WHOSE ACCOM-\\n\", 7: 'plishment and influence cause them to be the symbols of their age;\\n', 8: 'their careers and ocuvres become the touchstones by which the\\n', 9: 'field is measured and its history told. In the related pursuits of\\n', 10: '\\n', 11: 'analytical and descriptive bibliography, textual criticism, and scholarly\\n', 12: 'editing, Fredson Bowers was such 2 figure, dominating the four decades\\n', 13: 'after 1949, when his Principles of Bibliographical Description was pub-\\n', 14: 'lished. By 197g the period was already being called “the age of Bowers”:\\n', 15: 'in that year Norman Sanders, writing the chapter on textual scholarship\\n', 16: \"for Stanley Wells's Shakespeare: Select Bibliographies, gave this title to\\n\", 17: 'a section of his essay. For most people, it would be achievement enough\\n', 18: 'to rise to such 2 position in a field as complex as Shakespearean textual\\n', 19: 'studies; but Bowers played an equally important role in other areas.\\n', 20: 'Editors of nincteenthcentury American authors, for example, would\\n', 21: 'also have to call the recent past “the age of Bowers,” as would the writers\\n', 22: 'of descriptive bibliographies of authors and presses. His ubiquity in\\n', 23: 'the broad ficld of bibliographical and textual study, his seemingly com-\\n', 24: 'plete possession of it, distinguished him from his illustrious predeces-\\n', 25: 'sors and made him the personification of bibliographical scholarship in\\n', 26: 'his time.\\n', 27: '\\n', 28: '‘When in 1969 Bowers was awarded the Gold Medal of the Biblio-\\n', 29: 'graphical Society in London, John Carter’s citation referred to the\\n', 30: 'Principles as “majestic,” called Bowers’s current projects “formidable,”\\n', 31: 'said that he had “imposed critical discipline” on the texts of several\\n', 32: 'authors, described Studies in Bibliography as a “great and continuing\\n', 33: 'achievement,” and included among his characteristics “uncompromising\\n', 34: 'seriousness of purpose” and “professional intensity.” Bowers was not\\n', 35: 'unaccustomed to such encomia, but he had also experienced his share of\\n', 36: 'attacks: his scholarly positions were not universally popular, and he\\n', 37: 'expressed them with an aggressiveness that almost seemed calculated to\\n'}\n"
     ]
    }
   ],
   "source": [
    "context = {**lines}\n",
    "print(context)\n"
   ]
  },
  {
   "cell_type": "code",
   "execution_count": 3,
   "id": "b8bee59a",
   "metadata": {},
   "outputs": [
    {
     "name": "stdout",
     "output_type": "stream",
     "text": [
      "(716, 2500, 3)\n"
     ]
    }
   ],
   "source": [
    "im_file = \"data/sign.jpg\"\n",
    "image = cv2.imread(im_file)\n",
    "im_h, im_w, im_d = image.shape\n",
    "print(image.shape)\n",
    "base_image = image.copy()"
   ]
  },
  {
   "cell_type": "code",
   "execution_count": 4,
   "id": "bddc5084",
   "metadata": {},
   "outputs": [
    {
     "data": {
      "text/plain": [
       "True"
      ]
     },
     "execution_count": 4,
     "metadata": {},
     "output_type": "execute_result"
    }
   ],
   "source": [
    "gray =cv2.cvtColor(image,cv2.COLOR_BGR2GRAY)\n",
    "\n",
    "# Apply blur to gray image\n",
    "blur = cv2.GaussianBlur(gray,(7,7),0)\n",
    "\n",
    "# Convert blur image to thresh image(Binary image)\n",
    "thresh = cv2.threshold(blur,210,230,cv2.THRESH_BINARY_INV + cv2.THRESH_OTSU)[1]\n",
    "\n",
    "# Now we have to create a kernel object\n",
    "kernel = cv2.getStructuringElement(cv2.MORPH_RECT,(5,13))\n",
    "\n",
    "# Now apply dilation on the kernel\n",
    "dilate = cv2.dilate(thresh,kernel,iterations=1)\n",
    "cv2.imwrite(\"temp/OCR_dilate.png\",dilate)"
   ]
  },
  {
   "cell_type": "code",
   "execution_count": 5,
   "id": "b1234217",
   "metadata": {},
   "outputs": [
    {
     "data": {
      "text/plain": [
       "-1"
      ]
     },
     "execution_count": 5,
     "metadata": {},
     "output_type": "execute_result"
    }
   ],
   "source": [
    "cv2.imshow(\"Original\",dilate)\n",
    "cv2.waitKey(0)"
   ]
  },
  {
   "cell_type": "code",
   "execution_count": 6,
   "id": "1521a0a6",
   "metadata": {},
   "outputs": [],
   "source": [
    "gray =cv2.cvtColor(image,cv2.COLOR_BGR2GRAY)\n",
    "thresh = cv2.threshold(gray,210,230,cv2.THRESH_BINARY)[1]"
   ]
  },
  {
   "cell_type": "code",
   "execution_count": 7,
   "id": "89264e40",
   "metadata": {},
   "outputs": [],
   "source": [
    "cnts = cv2.findContours(dilate, cv2.RETR_EXTERNAL, cv2.CHAIN_APPROX_SIMPLE)\n",
    "cnts = cnts[0] if len(cnts) == 2 else cnts[1]\n",
    "cnts = sorted(cnts, key=lambda x: cv2.boundingRect(x)[0])"
   ]
  },
  {
   "cell_type": "code",
   "execution_count": null,
   "id": "662caadd",
   "metadata": {},
   "outputs": [],
   "source": []
  },
  {
   "cell_type": "code",
   "execution_count": 8,
   "id": "c61786ec",
   "metadata": {},
   "outputs": [
    {
     "name": "stdout",
     "output_type": "stream",
     "text": [
      "\n",
      "\n",
      "\n",
      "\n"
     ]
    },
    {
     "data": {
      "text/plain": [
       "True"
      ]
     },
     "execution_count": 8,
     "metadata": {},
     "output_type": "execute_result"
    }
   ],
   "source": [
    "for c in cnts:\n",
    "    x,y,w,h = cv2.boundingRect(c)\n",
    "    if  h>200 and w >20:\n",
    "        roi = thresh[y:y+h, x:x+w]\n",
    "        cv2.rectangle(image,(x,y),(x+w,y+h),(36,255,12),2)\n",
    "        ocr_result = pytesseract.image_to_string(roi)\n",
    "        # ocr_result = ocr_result.split(\"\\n\")\n",
    "        print(ocr_result)\n",
    "\n",
    "cv2.imwrite(\"temp/OCR_box.png\",image)"
   ]
  },
  {
   "cell_type": "code",
   "execution_count": 9,
   "id": "6c90a562",
   "metadata": {},
   "outputs": [],
   "source": [
    "image = cv2.imread(im_file)"
   ]
  },
  {
   "cell_type": "code",
   "execution_count": 11,
   "id": "4ccc22f2-bccf-45e0-a4d0-a075a5e548b1",
   "metadata": {},
   "outputs": [],
   "source": [
    "text = pytesseract.image_to_string(image)"
   ]
  },
  {
   "cell_type": "code",
   "execution_count": 12,
   "id": "09a0cdba-d7f6-4fff-9efa-81063138b45a",
   "metadata": {},
   "outputs": [
    {
     "data": {
      "text/plain": [
       "''"
      ]
     },
     "execution_count": 12,
     "metadata": {},
     "output_type": "execute_result"
    }
   ],
   "source": [
    "text"
   ]
  },
  {
   "cell_type": "code",
   "execution_count": null,
   "id": "578d0b1e-b461-4a01-bcce-550862ef7c66",
   "metadata": {},
   "outputs": [],
   "source": []
  }
 ],
 "metadata": {
  "kernelspec": {
   "display_name": "Python 3 (ipykernel)",
   "language": "python",
   "name": "python3"
  },
  "language_info": {
   "codemirror_mode": {
    "name": "ipython",
    "version": 3
   },
   "file_extension": ".py",
   "mimetype": "text/x-python",
   "name": "python",
   "nbconvert_exporter": "python",
   "pygments_lexer": "ipython3",
   "version": "3.11.9"
  }
 },
 "nbformat": 4,
 "nbformat_minor": 5
}
