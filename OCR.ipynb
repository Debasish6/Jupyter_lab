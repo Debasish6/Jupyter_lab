{
 "cells": [
  {
   "cell_type": "code",
   "execution_count": 58,
   "id": "1ac30ba4-c442-486c-807c-a720cb710d1a",
   "metadata": {},
   "outputs": [],
   "source": [
    "import pytesseract\n",
    "pytesseract.pytesseract.tesseract_cmd = r'C:\\\\Program Files\\\\Tesseract-OCR\\\\tesseract.exe'\n",
    "from PIL import Image\n",
    "import numpy as np\n",
    "import cv2"
   ]
  },
  {
   "cell_type": "code",
   "execution_count": 103,
   "id": "9338b6b7-12ab-44f6-8f43-b1e02e31ad96",
   "metadata": {},
   "outputs": [],
   "source": [
    "im_file = \"data/OCR Check.jpg\"\n",
    "image = cv2.imread(im_file)"
   ]
  },
  {
   "cell_type": "code",
   "execution_count": 104,
   "id": "c927ca57-177b-480c-94d2-aba24d3beb04",
   "metadata": {},
   "outputs": [
    {
     "name": "stdout",
     "output_type": "stream",
     "text": [
      "Converted to grayscale image.\n"
     ]
    },
    {
     "data": {
      "text/plain": [
       "-1"
      ]
     },
     "execution_count": 104,
     "metadata": {},
     "output_type": "execute_result"
    }
   ],
   "source": [
    "gray_image = cv2.cvtColor(image, cv2.COLOR_BGR2GRAY)\n",
    "print(\"Converted to grayscale image.\")\n",
    "cv2.imshow(\"img\",gray_image)\n",
    "cv2.waitKey(0)"
   ]
  },
  {
   "cell_type": "code",
   "execution_count": 105,
   "id": "60f858da-ec1d-4c63-b595-c2c5d1d8f89a",
   "metadata": {},
   "outputs": [
    {
     "name": "stdout",
     "output_type": "stream",
     "text": [
      "Threshold Applied sucessfully.\n"
     ]
    },
    {
     "data": {
      "text/plain": [
       "-1"
      ]
     },
     "execution_count": 105,
     "metadata": {},
     "output_type": "execute_result"
    }
   ],
   "source": [
    "thresh=cv2.threshold(gray_image,200,230,cv2.THRESH_BINARY)[1]\n",
    "print(\"Threshold Applied sucessfully.\")\n",
    "cv2.imshow(\"img\",thresh)\n",
    "cv2.waitKey(0)"
   ]
  },
  {
   "cell_type": "code",
   "execution_count": 120,
   "id": "fa07308f-db5c-4483-8f4f-85cbffc798a1",
   "metadata": {},
   "outputs": [],
   "source": [
    "\n",
    "def thick_font(image):\n",
    "    image = cv2.bitwise_not(thresh)\n",
    "    kernel = np.ones((1,2),np.uint8)\n",
    "    image = cv2.dilate(image,kernel, iterations=1)\n",
    "    image = cv2.bitwise_not(image)\n",
    "    return image\n",
    "    \n"
   ]
  },
  {
   "cell_type": "code",
   "execution_count": 121,
   "id": "d67bc352-c00c-4018-b7a7-90f8fa905873",
   "metadata": {},
   "outputs": [
    {
     "data": {
      "text/plain": [
       "-1"
      ]
     },
     "execution_count": 121,
     "metadata": {},
     "output_type": "execute_result"
    }
   ],
   "source": [
    "dilated_image =thick_font(thresh)\n",
    "cv2.imshow(\"img\",dilated_image)\n",
    "cv2.waitKey(0)"
   ]
  },
  {
   "cell_type": "code",
   "execution_count": 122,
   "id": "108b508f-0896-4046-a568-fb4a090b7231",
   "metadata": {},
   "outputs": [
    {
     "data": {
      "text/plain": [
       "\"The Life and Work of\\nFredson Bowers\\n\\nby\\nG. THOMAS TANSELLE\\n\\n'M EVERY FIELD OF ENDEAVOR THERE ARE 4 FEW FIGURES WHOSE ACCOM-\\nplishment and influence cause them to be the symbols of their age;\\ntheir careers and ocuvres become the touchstones by which the\\nfield is measured and its history told. In the related pursuits of\\n\\nanalytical and descriptive bibliography, textual criticism, and scholarly\\nediting, Fredson Bowers was such 2 figure, dominating the four decades\\nafter 1949, when his Principles of Bibliographical Description was pub-\\nlished. By 197g the period was already being called “the age of Bowers”:\\nin that year Norman Sanders, writing the chapter on textual scholarship\\nfor Stanley Wells's Shakespeare: Select Bibliographies, gave this title to\\na section of his essay. For most people, it would be achievement enough\\nto rise to such 2 position in a field as complex as Shakespearean textual\\nstudies; but Bowers played an equally important role in other areas.\\nEditors of nincteenthcentury American authors, for example, would\\nalso have to call the recent past “the age of Bowers,” as would the writers\\nof descriptive bibliographies of authors and presses. His ubiquity in\\nthe broad ficld of bibliographical and textual study, his seemingly com-\\nplete possession of it, distinguished him from his illustrious predeces-\\nsors and made him the personification of bibliographical scholarship in\\nhis time.\\n\\n‘When in 1969 Bowers was awarded the Gold Medal of the Biblio-\\ngraphical Society in London, John Carter’s citation referred to the\\nPrinciples as “majestic,” called Bowers’s current projects “formidable,”\\nsaid that he had “imposed critical discipline” on the texts of several\\nauthors, described Studies in Bibliography as a “great and continuing\\nachievement,” and included among his characteristics “uncompromising\\nseriousness of purpose” and “professional intensity.” Bowers was not\\nunaccustomed to such encomia, but he had also experienced his share of\\nattacks: his scholarly positions were not universally popular, and he\\nexpressed them with an aggressiveness that almost seemed calculated to\\n\""
      ]
     },
     "execution_count": 122,
     "metadata": {},
     "output_type": "execute_result"
    }
   ],
   "source": [
    "decodec_text = pytesseract.image_to_string(dilated_image)\n",
    "decodec_text"
   ]
  },
  {
   "cell_type": "code",
   "execution_count": 123,
   "id": "295b3827-019f-4b9c-8c6b-5ff1f65a52d5",
   "metadata": {},
   "outputs": [
    {
     "name": "stdout",
     "output_type": "stream",
     "text": [
      "The Life and Work of\n",
      "\n",
      "Fredson Bowers\n",
      "\n",
      "\n",
      "\n",
      "by\n",
      "\n",
      "G. THOMAS TANSELLE\n",
      "\n",
      "\n",
      "\n",
      "'M EVERY FIELD OF ENDEAVOR THERE ARE 4 FEW FIGURES WHOSE ACCOM-\n",
      "\n",
      "plishment and influence cause them to be the symbols of their age;\n",
      "\n",
      "their careers and ocuvres become the touchstones by which the\n",
      "\n",
      "field is measured and its history told. In the related pursuits of\n",
      "\n",
      "\n",
      "\n",
      "analytical and descriptive bibliography, textual criticism, and scholarly\n",
      "\n",
      "editing, Fredson Bowers was such 2 figure, dominating the four decades\n",
      "\n",
      "after 1949, when his Principles of Bibliographical Description was pub-\n",
      "\n",
      "lished. By 197g the period was already being called “the age of Bowers”:\n",
      "\n",
      "in that year Norman Sanders, writing the chapter on textual scholarship\n",
      "\n",
      "for Stanley Wells's Shakespeare: Select Bibliographies, gave this title to\n",
      "\n",
      "a section of his essay. For most people, it would be achievement enough\n",
      "\n",
      "to rise to such 2 position in a field as complex as Shakespearean textual\n",
      "\n",
      "studies; but Bowers played an equally important role in other areas.\n",
      "\n",
      "Editors of nincteenthcentury American authors, for example, would\n",
      "\n",
      "also have to call the recent past “the age of Bowers,” as would the writers\n",
      "\n",
      "of descriptive bibliographies of authors and presses. His ubiquity in\n",
      "\n",
      "the broad ficld of bibliographical and textual study, his seemingly com-\n",
      "\n",
      "plete possession of it, distinguished him from his illustrious predeces-\n",
      "\n",
      "sors and made him the personification of bibliographical scholarship in\n",
      "\n",
      "his time.\n",
      "\n",
      "\n",
      "\n",
      "‘When in 1969 Bowers was awarded the Gold Medal of the Biblio-\n",
      "\n",
      "graphical Society in London, John Carter’s citation referred to the\n",
      "\n",
      "Principles as “majestic,” called Bowers’s current projects “formidable,”\n",
      "\n",
      "said that he had “imposed critical discipline” on the texts of several\n",
      "\n",
      "authors, described Studies in Bibliography as a “great and continuing\n",
      "\n",
      "achievement,” and included among his characteristics “uncompromising\n",
      "\n",
      "seriousness of purpose” and “professional intensity.” Bowers was not\n",
      "\n",
      "unaccustomed to such encomia, but he had also experienced his share of\n",
      "\n",
      "attacks: his scholarly positions were not universally popular, and he\n",
      "\n",
      "expressed them with an aggressiveness that almost seemed calculated to\n",
      "\n"
     ]
    }
   ],
   "source": [
    "for line in decodec_text:\n",
    "    print(line,end=\"\")\n",
    "    if line == \"\\n\":\n",
    "        print()"
   ]
  },
  {
   "cell_type": "code",
   "execution_count": null,
   "id": "e7dcb996-4bc4-4c1d-9bd6-c4350dc3c945",
   "metadata": {},
   "outputs": [],
   "source": []
  }
 ],
 "metadata": {
  "kernelspec": {
   "display_name": "Python 3 (ipykernel)",
   "language": "python",
   "name": "python3"
  },
  "language_info": {
   "codemirror_mode": {
    "name": "ipython",
    "version": 3
   },
   "file_extension": ".py",
   "mimetype": "text/x-python",
   "name": "python",
   "nbconvert_exporter": "python",
   "pygments_lexer": "ipython3",
   "version": "3.11.9"
  }
 },
 "nbformat": 4,
 "nbformat_minor": 5
}
