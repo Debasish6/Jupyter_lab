{
 "cells": [
  {
   "cell_type": "code",
   "execution_count": 78,
   "id": "1ac30ba4-c442-486c-807c-a720cb710d1a",
   "metadata": {},
   "outputs": [],
   "source": [
    "import pytesseract\n",
    "pytesseract.pytesseract.tesseract_cmd = r'C:\\\\Program Files\\\\Tesseract-OCR\\\\tesseract.exe'\n",
    "from PIL import Image\n",
    "import numpy as np\n",
    "import cv2"
   ]
  },
  {
   "cell_type": "code",
   "execution_count": 79,
   "id": "9338b6b7-12ab-44f6-8f43-b1e02e31ad96",
   "metadata": {},
   "outputs": [],
   "source": [
    "im_file = \"data/page_01.jpg\"\n",
    "image = cv2.imread(im_file)"
   ]
  },
  {
   "cell_type": "code",
   "execution_count": 80,
   "id": "c927ca57-177b-480c-94d2-aba24d3beb04",
   "metadata": {},
   "outputs": [
    {
     "name": "stdout",
     "output_type": "stream",
     "text": [
      "Converted to grayscale image.\n"
     ]
    },
    {
     "data": {
      "text/plain": [
       "-1"
      ]
     },
     "execution_count": 80,
     "metadata": {},
     "output_type": "execute_result"
    }
   ],
   "source": [
    "gray_image = cv2.cvtColor(image, cv2.COLOR_BGR2GRAY)\n",
    "print(\"Converted to grayscale image.\")\n",
    "cv2.imshow(\"img\",gray_image)\n",
    "cv2.waitKey(0)"
   ]
  },
  {
   "cell_type": "code",
   "execution_count": 81,
   "id": "60f858da-ec1d-4c63-b595-c2c5d1d8f89a",
   "metadata": {},
   "outputs": [
    {
     "name": "stdout",
     "output_type": "stream",
     "text": [
      "Threshold Applied sucessfully.\n"
     ]
    },
    {
     "data": {
      "text/plain": [
       "-1"
      ]
     },
     "execution_count": 81,
     "metadata": {},
     "output_type": "execute_result"
    }
   ],
   "source": [
    "# thresh=cv2.adaptiveThreshold(gray_image,200,230,cv2.THRESH_BINARY)[1]\n",
    "#blur = cv2.GaussianBlur(gray_image,(5,5),0)\n",
    "thresh=cv2.threshold(gray_image,210,230,cv2.THRESH_BINARY)[1]\n",
    "\n",
    "print(\"Threshold Applied sucessfully.\")\n",
    "cv2.imshow(\"img\",thresh)\n",
    "cv2.waitKey(0)"
   ]
  },
  {
   "cell_type": "code",
   "execution_count": 82,
   "id": "18137f39",
   "metadata": {},
   "outputs": [],
   "source": [
    "def noise_removal(image):\n",
    "    no_noise = cv2.medianBlur(image, 5)\n",
    "    return no_noise\n",
    "\n",
    "def edge_detection(image):\n",
    "    edges = cv2.Canny(image, 100, 200)\n",
    "    return edges\n",
    "\n",
    "def morphological_transform(image):\n",
    "    kernel = cv2.getStructuringElement(cv2.MORPH_RECT, (1, 1))\n",
    "    morph_image = cv2.morphologyEx(image, cv2.MORPH_OPEN, kernel)\n",
    "    return morph_image"
   ]
  },
  {
   "cell_type": "code",
   "execution_count": 87,
   "id": "3e49983a",
   "metadata": {},
   "outputs": [
    {
     "data": {
      "text/plain": [
       "-1"
      ]
     },
     "execution_count": 87,
     "metadata": {},
     "output_type": "execute_result"
    }
   ],
   "source": [
    "\n",
    "# no_noise = noise_removal(thresh)\n",
    "\n",
    "# edges = edge_detection(thresh)\n",
    "\n",
    "morph_image = morphological_transform(thresh)\n",
    "\n",
    "cv2.imshow(\"img\",morph_image)\n",
    "cv2.waitKey(0)"
   ]
  },
  {
   "cell_type": "code",
   "execution_count": 88,
   "id": "82d98054",
   "metadata": {},
   "outputs": [],
   "source": [
    "from pytesseract import Output\n",
    "\n",
    "# Extract recognized data from easy text\n",
    "data = pytesseract.image_to_data(morph_image, output_type=Output.DICT)\n"
   ]
  },
  {
   "cell_type": "code",
   "execution_count": null,
   "id": "2dc89673",
   "metadata": {},
   "outputs": [],
   "source": [
    "data"
   ]
  },
  {
   "cell_type": "code",
   "execution_count": 89,
   "id": "bbc66958",
   "metadata": {},
   "outputs": [
    {
     "data": {
      "text/plain": [
       "320"
      ]
     },
     "execution_count": 89,
     "metadata": {},
     "output_type": "execute_result"
    }
   ],
   "source": [
    "n_boxes = len(data[\"text\"])\n",
    "n_boxes"
   ]
  },
  {
   "cell_type": "code",
   "execution_count": 90,
   "id": "7798e358",
   "metadata": {},
   "outputs": [
    {
     "data": {
      "text/plain": [
       "True"
      ]
     },
     "execution_count": 90,
     "metadata": {},
     "output_type": "execute_result"
    }
   ],
   "source": [
    "for i in range(n_boxes):\n",
    "   if data[\"conf\"][i] == -1:\n",
    "       continue\n",
    "   \n",
    "   # Coordinates\n",
    "   x, y = data[\"left\"][i], data[\"top\"][i]\n",
    "   w, h = data[\"width\"][i], data[\"height\"][i]\n",
    "\n",
    "   # Corners\n",
    "   top_left = (x, y)\n",
    "   bottom_right = (x + w, y + h)\n",
    "\n",
    "   # Box params\n",
    "   green = (0, 255, 0)\n",
    "   thickness = 1  # pixels\n",
    "\n",
    "   cv2.rectangle(\n",
    "       img=morph_image, pt1=top_left, pt2=bottom_right, color=green, thickness=thickness\n",
    "   )\n",
    "\n",
    "cv2.imwrite(\"temp/OCR_each_word.png\",morph_image)\n"
   ]
  },
  {
   "cell_type": "code",
   "execution_count": 51,
   "id": "fa07308f-db5c-4483-8f4f-85cbffc798a1",
   "metadata": {},
   "outputs": [],
   "source": [
    "\n",
    "def thick_font(image):\n",
    "    image = cv2.bitwise_not(thresh)\n",
    "    kernel = np.ones((1,1),np.uint8)\n",
    "    image = cv2.dilate(image,kernel, iterations=1)\n",
    "    image = cv2.bitwise_not(image)\n",
    "    return image\n",
    "    \n"
   ]
  },
  {
   "cell_type": "code",
   "execution_count": null,
   "id": "f1266095",
   "metadata": {},
   "outputs": [],
   "source": []
  },
  {
   "cell_type": "code",
   "execution_count": 52,
   "id": "d67bc352-c00c-4018-b7a7-90f8fa905873",
   "metadata": {},
   "outputs": [
    {
     "data": {
      "text/plain": [
       "-1"
      ]
     },
     "execution_count": 52,
     "metadata": {},
     "output_type": "execute_result"
    }
   ],
   "source": [
    "dilated_image =thick_font(thresh)\n",
    "cv2.imshow(\"img\",dilated_image)\n",
    "cv2.waitKey(0)"
   ]
  },
  {
   "cell_type": "code",
   "execution_count": 91,
   "id": "108b508f-0896-4046-a568-fb4a090b7231",
   "metadata": {},
   "outputs": [
    {
     "data": {
      "text/plain": [
       "\"On Eastern frorning inl iid year 1945) 0 Rook my Bix-year-old\\nson [by Eid hand and begar| walking from my homd flown foward fhe\\nalleys and forests pf fia Carpathier hountaing.| For pearly\\nBight MOHthS we Lived in BAFNS] BEECH and MAKeShITE GabinS] tH\\ntha feneroug help OX an Pusually courazeous mani we fanaged to\\nSurvive Europe's] greatest [it bf madness] (hose who walked fin\\nihe pppesite direction on that Easter day were less fortunatel\\nthey were taken inl Erainloada ta placeg whose onve pbseure hanes\\n\\nare flow, ahd Forever willl be, pynonymoug with terror evil and\\n@eath) What follows [fq ourl tory of Gurvival fold fo tha Best\\nbf my Bbility] inl plain] simple hanguage\\nTH March of oh) hel SS ESOS HHO oven Ene internal laffeirg\\n\\nof Hungary and proceeded fod prganize thd beportation pz ews\\nffol Eha Nazis this a foutind Assignment; within hours Bil Leal\\npfficials Informed 62 bperationall he\\nfasted a Uirectivd fesigned to placate [ewish Fears and induces\\nae gnnounced {hat fhe Tews would bel shipped fa\\nPoland gmergency Labor Force and that they) pny] bein,\\n\\natted for [temporary work] Mhers wha tRES ©\\nYersion, ers, Less credulous] Fesigned themselves and hoped fori 7\\nha best) Still others began fo make plans for escape, By Apri\\n(3 tha fungarier Tews were being rounded up from all over the ~\\ncountry| inl what once @ huge brick factory] [he rest hel wed\\n\\nworking in [ngvar arid fsually home| on Weelkendad\\nAY fhat time &t ma Longer possible For a Tew hravell\\n\\n\""
      ]
     },
     "execution_count": 91,
     "metadata": {},
     "output_type": "execute_result"
    }
   ],
   "source": [
    "decodec_text = pytesseract.image_to_string(morph_image)\n",
    "decodec_text"
   ]
  },
  {
   "cell_type": "code",
   "execution_count": 71,
   "id": "295b3827-019f-4b9c-8c6b-5ff1f65a52d5",
   "metadata": {},
   "outputs": [],
   "source": [
    "lines = dict()\n",
    "i=0\n",
    "w=''\n",
    "for line in decodec_text:\n",
    "    w = w+line\n",
    "    if line == \"\\n\":\n",
    "        lines[i]=w\n",
    "        i=i+1\n",
    "        w=''"
   ]
  },
  {
   "cell_type": "code",
   "execution_count": 72,
   "id": "e7dcb996-4bc4-4c1d-9bd6-c4350dc3c945",
   "metadata": {},
   "outputs": [
    {
     "data": {
      "text/plain": [
       "{0: '“GABRIEL Meamall —\\n',\n",
       " 1: '\\n',\n",
       " 2: 'On Easter morning in the year 1944, I took my six-year~old\\n',\n",
       " 3: 'son by the hand and began walking from my home town toward the\\n',\n",
       " 4: 'valleys and forests of the Carpathian mountains... For nearly\\n',\n",
       " 5: 'eight months we livea in barns, atties and makeshift cabins. With\\n',\n",
       " 6: 'the generous help of an unusually courageous man, we managed to\\n',\n",
       " 7: \"survive Europe's greatest. fit of madness. Those who walked in\\n\",\n",
       " 8: 'the opposite direction on that Easter day were less fortunate.\\n',\n",
       " 9: 'They were taken in trainloads to places whose once obscure names.\\n',\n",
       " 10: 'are now, and forever will be, synonymous with terror, evil and\\n',\n",
       " 11: 'death. What follows is our story of survival told to the best\\n',\n",
       " 12: 'of my ability, in plain, simple lariguage.\\n',\n",
       " 13: '\\n',\n",
       " 14: 'In March of 1944 the SS troops took over the internal. affeirs\\n',\n",
       " 15: 'of Hungary and proceeded to organize the deportation of the Tews.\\n',\n",
       " 16: 'fo the Nazis this vas a routine assignment; within hours. all leeal\\n',\n",
       " 17: 'efficials were informed of operational plans. The high commend\\n',\n",
       " 18: 'isstied a directive designed to placate Jewish fears and induce\\n',\n",
       " 19: 'cooperation. It was announced that the Jews. would be. shipped to\\n',\n",
       " 20: 'Poland as an emergency labor force and that they were only being\\n',\n",
       " 21: 'drafted for temporary work. There were many who believed. this :\\n',\n",
       " 22: 'version. Others, less credulous, resigned themselves and. hoped for\\n',\n",
       " 23: 'the best. Still others began to make plans for escape, By April\\n',\n",
       " 24: '13 the Hungarian Jews were being rounded up from all over the i\\n',\n",
       " 25: '‘country in what was once a huge prick factory. The rest le well\\n',\n",
       " 26: 'known, . ;\\n',\n",
       " 27: '\\n',\n",
       " 28: 'I was working in Ungvar and usually came home on weeleride.\\n',\n",
       " 29: 'At that time it was no longer possible for a Jew to travel freely.\\n',\n",
       " 30: '\\n'}"
      ]
     },
     "execution_count": 72,
     "metadata": {},
     "output_type": "execute_result"
    }
   ],
   "source": [
    "lines"
   ]
  },
  {
   "cell_type": "code",
   "execution_count": 12,
   "id": "4562dd7c",
   "metadata": {},
   "outputs": [
    {
     "name": "stdout",
     "output_type": "stream",
     "text": [
      "{0: 'The Life and Work of\\n', 1: 'Fredson Bowers\\n', 2: '\\n', 3: 'by\\n', 4: 'G. THOMAS TANSELLE\\n', 5: '\\n', 6: \"'N EVERY FIELD OF ENDEAVOK- THERE ARE A FEW FIGURES WHOSE ACCOM-\\n\", 7: '\\n', 8: 'plishmentand influence cause them to be the symbols of their age;\\n', 9: '\\n', 10: 'their careers and oeuvres become the touchstones by which the\\n', 11: '\\n', 12: 'field is measured and its history told. In the related pursuits of\\n', 13: 'analytical and descriptive bibliography, textual criticism, and scholarly\\n', 14: 'editing, Fredson Bowers was such a figure, dominating the four decades\\n', 15: 'after 1949, when his Principles of Bibliographical Description was pub-\\n', 16: 'lished. By 1973 the périod was already being called “the age of Bowers”:\\n', 17: 'in that year Norman Sanders, writing the chapter on textual scholarship\\n', 18: \"for Stanley Wells's Shakespeare: Select Bibliographies, gave this title to\\n\", 19: 'a section of his essay. For mast people, it would be achicveruent enough\\n', 20: 'to tise to such 2 position in a field as complex as Shakespearean textual\\n', 21: 'stidies; but Bowers played an equally important role in other areas.\\n', 22: 'Editors of nineteenth-century American authors, for example, would\\n', 23: '‘also have to eal the recent past “the age of Bowers,” as would the writers\\n', 24: 'of descriptive bibliographies of authors and presses. His ubiquity in\\n', 25: 'the broad field of bibliographical and textual study, his seemingly com-\\n', 26: 'plete pousession of it, distinguished him from his illustrious predeces-\\n', 27: 'sas and made him the personification of bibliographical scholarship in\\n', 28: 'his time.\\n', 29: '\\n', 30: '‘When in 1969 Bowers was awarded the Gold Medal of the Biblio-\\n', 31: \"‘graphical Society in London, John Carter's citation referred to the\\n\", 32: 'Principles as “majestic,” called Bowexx’s current projects “formidable,”\\n', 33: 'siid that he had “imposed critical discipline” on the texts of several\\n', 34: 'authors, described Studies in Bibliography as a “great and continuing\\n', 35: 'achievement,” and included among his characteristics “uncompromising\\n', 36: 'waaccustomed to such encomia, but he had also experienced his share of\\n', 37: 'attacks: his scholarly positions weré not universally popular, and he\\n', 38: 'expressed them with an aggressiveness that almost seemed calculated to\\n', 39: '\\n'}\n"
     ]
    }
   ],
   "source": [
    "context = {**lines}\n",
    "print(context)\n"
   ]
  },
  {
   "cell_type": "code",
   "execution_count": 10,
   "id": "b8bee59a",
   "metadata": {},
   "outputs": [
    {
     "name": "stdout",
     "output_type": "stream",
     "text": [
      "(716, 2500, 3)\n"
     ]
    }
   ],
   "source": [
    "im_file = \"data/sign.jpg\"\n",
    "image = cv2.imread(im_file)\n",
    "im_h, im_w, im_d = image.shape\n",
    "print(image.shape)\n",
    "base_image = image.copy()"
   ]
  },
  {
   "cell_type": "code",
   "execution_count": 11,
   "id": "bddc5084",
   "metadata": {},
   "outputs": [
    {
     "data": {
      "text/plain": [
       "True"
      ]
     },
     "execution_count": 11,
     "metadata": {},
     "output_type": "execute_result"
    }
   ],
   "source": [
    "gray =cv2.cvtColor(image,cv2.COLOR_BGR2GRAY)\n",
    "\n",
    "# Apply blur to gray image\n",
    "blur = cv2.GaussianBlur(gray,(7,7),0)\n",
    "\n",
    "# Convert blur image to thresh image(Binary image)\n",
    "thresh = cv2.threshold(blur,210,230,cv2.THRESH_BINARY_INV + cv2.THRESH_OTSU)[1]\n",
    "\n",
    "# Now we have to create a kernel object\n",
    "kernel = cv2.getStructuringElement(cv2.MORPH_RECT,(5,13))\n",
    "\n",
    "# Now apply dilation on the kernel\n",
    "dilate = cv2.dilate(thresh,kernel,iterations=1)\n",
    "cv2.imwrite(\"temp/OCR_dilate.png\",dilate)"
   ]
  },
  {
   "cell_type": "code",
   "execution_count": 12,
   "id": "b1234217",
   "metadata": {},
   "outputs": [
    {
     "data": {
      "text/plain": [
       "-1"
      ]
     },
     "execution_count": 12,
     "metadata": {},
     "output_type": "execute_result"
    }
   ],
   "source": [
    "cv2.imshow(\"Original\",dilate)\n",
    "cv2.waitKey(0)"
   ]
  },
  {
   "cell_type": "code",
   "execution_count": 6,
   "id": "1521a0a6",
   "metadata": {},
   "outputs": [],
   "source": [
    "gray =cv2.cvtColor(image,cv2.COLOR_BGR2GRAY)\n",
    "thresh = cv2.threshold(gray,210,230,cv2.THRESH_BINARY)[1]"
   ]
  },
  {
   "cell_type": "code",
   "execution_count": 7,
   "id": "89264e40",
   "metadata": {},
   "outputs": [],
   "source": [
    "cnts = cv2.findContours(dilate, cv2.RETR_EXTERNAL, cv2.CHAIN_APPROX_SIMPLE)\n",
    "cnts = cnts[0] if len(cnts) == 2 else cnts[1]\n",
    "cnts = sorted(cnts, key=lambda x: cv2.boundingRect(x)[0])"
   ]
  },
  {
   "cell_type": "code",
   "execution_count": null,
   "id": "662caadd",
   "metadata": {},
   "outputs": [],
   "source": []
  },
  {
   "cell_type": "code",
   "execution_count": 8,
   "id": "c61786ec",
   "metadata": {},
   "outputs": [
    {
     "name": "stdout",
     "output_type": "stream",
     "text": [
      "\n",
      "\n",
      "\n",
      "\n"
     ]
    },
    {
     "data": {
      "text/plain": [
       "True"
      ]
     },
     "execution_count": 8,
     "metadata": {},
     "output_type": "execute_result"
    }
   ],
   "source": [
    "for c in cnts:\n",
    "    x,y,w,h = cv2.boundingRect(c)\n",
    "    if  h>200 and w >20:\n",
    "        roi = thresh[y:y+h, x:x+w]\n",
    "        cv2.rectangle(image,(x,y),(x+w,y+h),(36,255,12),2)\n",
    "        ocr_result = pytesseract.image_to_string(roi)\n",
    "        # ocr_result = ocr_result.split(\"\\n\")\n",
    "        print(ocr_result)\n",
    "\n",
    "cv2.imwrite(\"temp/OCR_box.png\",image)"
   ]
  },
  {
   "cell_type": "code",
   "execution_count": 9,
   "id": "6c90a562",
   "metadata": {},
   "outputs": [],
   "source": [
    "image = cv2.imread(im_file)"
   ]
  },
  {
   "cell_type": "code",
   "execution_count": 11,
   "id": "4ccc22f2-bccf-45e0-a4d0-a075a5e548b1",
   "metadata": {},
   "outputs": [],
   "source": [
    "text = pytesseract.image_to_string(image)"
   ]
  },
  {
   "cell_type": "code",
   "execution_count": 12,
   "id": "09a0cdba-d7f6-4fff-9efa-81063138b45a",
   "metadata": {},
   "outputs": [
    {
     "data": {
      "text/plain": [
       "''"
      ]
     },
     "execution_count": 12,
     "metadata": {},
     "output_type": "execute_result"
    }
   ],
   "source": [
    "text"
   ]
  },
  {
   "cell_type": "markdown",
   "id": "d49b2181-3198-4206-9a96-cb53a73faabf",
   "metadata": {},
   "source": [
    "## NDArray to Image"
   ]
  },
  {
   "cell_type": "code",
   "execution_count": 1,
   "id": "324dad97-9187-4e5e-abab-540f19bb09c1",
   "metadata": {},
   "outputs": [],
   "source": [
    "import numpy as np\n",
    "import cv2"
   ]
  },
  {
   "cell_type": "code",
   "execution_count": 2,
   "id": "c85945bd-486b-4cc7-a438-914f43469f32",
   "metadata": {},
   "outputs": [
    {
     "name": "stdout",
     "output_type": "stream",
     "text": [
      "[[0. 0. 0. ... 0. 0. 0.]\n",
      " [0. 0. 0. ... 0. 0. 0.]\n",
      " [0. 0. 0. ... 0. 0. 0.]\n",
      " ...\n",
      " [0. 0. 0. ... 0. 0. 0.]\n",
      " [0. 0. 0. ... 0. 0. 0.]\n",
      " [0. 0. 0. ... 0. 0. 0.]]\n"
     ]
    }
   ],
   "source": [
    "image = np.zeros((500,500))\n",
    "print(image)"
   ]
  },
  {
   "cell_type": "code",
   "execution_count": 3,
   "id": "850aaa46-b7d4-476d-acd3-432941d626e9",
   "metadata": {},
   "outputs": [
    {
     "name": "stdout",
     "output_type": "stream",
     "text": [
      "[[100. 100. 100. ... 100. 100. 100.]\n",
      " [100. 100. 100. ... 100. 100. 100.]\n",
      " [100. 100. 100. ... 100. 100. 100.]\n",
      " ...\n",
      " [100. 100. 100. ... 100. 100. 100.]\n",
      " [100. 100. 100. ... 100. 100. 100.]\n",
      " [100. 100. 100. ... 100. 100. 100.]]\n"
     ]
    }
   ],
   "source": [
    "image[:,:] = 100\n",
    "print(image)"
   ]
  },
  {
   "cell_type": "code",
   "execution_count": 4,
   "id": "fd4ae4d4-a418-4f8d-92bb-03fcad72a04f",
   "metadata": {},
   "outputs": [
    {
     "name": "stdout",
     "output_type": "stream",
     "text": [
      "[[110. 110. 110. ... 110. 110. 110.]\n",
      " [110. 110. 110. ... 110. 110. 110.]\n",
      " [110. 110. 110. ... 110. 110. 110.]\n",
      " ...\n",
      " [110. 110. 110. ... 110. 110. 110.]\n",
      " [110. 110. 110. ... 110. 110. 110.]\n",
      " [110. 110. 110. ... 110. 110. 110.]]\n"
     ]
    }
   ],
   "source": [
    "image = image[:,:]+10\n",
    "print(image)"
   ]
  },
  {
   "cell_type": "code",
   "execution_count": 5,
   "id": "76efd3c6-3649-4c44-866d-2377c9231166",
   "metadata": {},
   "outputs": [
    {
     "data": {
      "text/plain": [
       "True"
      ]
     },
     "execution_count": 5,
     "metadata": {},
     "output_type": "execute_result"
    }
   ],
   "source": [
    "cv2.imwrite(\"Sample.jpg\",image)"
   ]
  },
  {
   "cell_type": "code",
   "execution_count": 10,
   "id": "3068cc7c-ce5b-4b3d-b5b2-6b1b1ef276e9",
   "metadata": {},
   "outputs": [],
   "source": [
    "image[200:300,200:300]=255"
   ]
  },
  {
   "cell_type": "code",
   "execution_count": 7,
   "id": "a88127f6-6c9d-491e-96af-8a46344d331a",
   "metadata": {},
   "outputs": [
    {
     "data": {
      "text/plain": [
       "True"
      ]
     },
     "execution_count": 7,
     "metadata": {},
     "output_type": "execute_result"
    }
   ],
   "source": [
    "cv2.imwrite(\"Sample.jpg\",image)"
   ]
  },
  {
   "cell_type": "code",
   "execution_count": 8,
   "id": "134c36fd-b259-49e1-9d37-5feb7457f072",
   "metadata": {},
   "outputs": [],
   "source": [
    "image[:,:]=0"
   ]
  },
  {
   "cell_type": "code",
   "execution_count": 11,
   "id": "dc25a3a5-3862-401d-a4c8-dad50744f951",
   "metadata": {},
   "outputs": [
    {
     "data": {
      "text/plain": [
       "True"
      ]
     },
     "execution_count": 11,
     "metadata": {},
     "output_type": "execute_result"
    }
   ],
   "source": [
    "cv2.imwrite(\"Sample.jpg\",image)"
   ]
  },
  {
   "cell_type": "code",
   "execution_count": 13,
   "id": "07e2f83b-0d5f-4bc2-a9c5-6263e96c1f84",
   "metadata": {},
   "outputs": [
    {
     "data": {
      "text/plain": [
       "-1"
      ]
     },
     "execution_count": 13,
     "metadata": {},
     "output_type": "execute_result"
    }
   ],
   "source": [
    "cv2.imshow('Test Image',image)\n",
    "cv2.waitKey(0)"
   ]
  },
  {
   "cell_type": "markdown",
   "id": "e4d8e9f6-2abe-48bf-a851-87800fabc235",
   "metadata": {},
   "source": [
    "## Drawing Lines, Shapes, Polygons, Texts"
   ]
  },
  {
   "cell_type": "code",
   "execution_count": 14,
   "id": "8f96a1f1-fc8f-4a1b-8bd5-f537af83796e",
   "metadata": {},
   "outputs": [],
   "source": [
    "import cv2\n",
    "import numpy as np"
   ]
  },
  {
   "cell_type": "code",
   "execution_count": 61,
   "id": "0514665d-9e05-4bd5-a3f9-c441087dc2d6",
   "metadata": {},
   "outputs": [
    {
     "data": {
      "text/plain": [
       "-1"
      ]
     },
     "execution_count": 61,
     "metadata": {},
     "output_type": "execute_result"
    }
   ],
   "source": [
    "# Creating a canvas of three channel 500 X 500 pixels\n",
    "canvas = np.zeros((500,500,3))\n",
    "cv2.imshow('Text Image',canvas)\n",
    "cv2.waitKey(0)"
   ]
  },
  {
   "cell_type": "code",
   "execution_count": 49,
   "id": "8d280400-9f5c-4345-8b2d-001f10dca955",
   "metadata": {},
   "outputs": [
    {
     "data": {
      "text/plain": [
       "(500, 500, 3)"
      ]
     },
     "execution_count": 49,
     "metadata": {},
     "output_type": "execute_result"
    }
   ],
   "source": [
    "canvas.shape"
   ]
  },
  {
   "cell_type": "code",
   "execution_count": 22,
   "id": "9f865475-a2ba-4c5e-b401-bb86efb9db03",
   "metadata": {},
   "outputs": [],
   "source": [
    "# Drawing a Line\n",
    "line=cv2.line(canvas,(100,100),(300,300),(0,255,0),2,cv2.LINE_AA)"
   ]
  },
  {
   "cell_type": "code",
   "execution_count": 23,
   "id": "70c92ae3-8d2e-4888-a69a-eb4cf0eb8a0d",
   "metadata": {},
   "outputs": [
    {
     "data": {
      "text/plain": [
       "-1"
      ]
     },
     "execution_count": 23,
     "metadata": {},
     "output_type": "execute_result"
    }
   ],
   "source": [
    "cv2.imshow('Text Image',line)\n",
    "cv2.waitKey(0)"
   ]
  },
  {
   "cell_type": "code",
   "execution_count": 25,
   "id": "0d6e5d30-10c4-4095-97e5-beb242b95e53",
   "metadata": {},
   "outputs": [],
   "source": [
    "# Drawing a Rectangle\n",
    "rect = cv2.rectangle(canvas,(200,200),(270,250),(0,0,255),-1)"
   ]
  },
  {
   "cell_type": "code",
   "execution_count": 26,
   "id": "ae6afd96-cc45-4fca-b138-607e10335ac5",
   "metadata": {},
   "outputs": [
    {
     "data": {
      "text/plain": [
       "-1"
      ]
     },
     "execution_count": 26,
     "metadata": {},
     "output_type": "execute_result"
    }
   ],
   "source": [
    "cv2.imshow('Text Image',rect)\n",
    "cv2.waitKey(0)"
   ]
  },
  {
   "cell_type": "code",
   "execution_count": 27,
   "id": "50eb08f6-e1a7-41bd-9c9f-b9e3add8ff82",
   "metadata": {},
   "outputs": [],
   "source": [
    "# Drawing a circle\n",
    "circle = cv2.circle(canvas,(300,300),70,(255,0,0),-1)"
   ]
  },
  {
   "cell_type": "code",
   "execution_count": 28,
   "id": "6fb4e5a2-fac1-437f-a059-675960b38fec",
   "metadata": {},
   "outputs": [
    {
     "data": {
      "text/plain": [
       "-1"
      ]
     },
     "execution_count": 28,
     "metadata": {},
     "output_type": "execute_result"
    }
   ],
   "source": [
    "cv2.imshow('Text Image',circle)\n",
    "cv2.waitKey(0)"
   ]
  },
  {
   "cell_type": "code",
   "execution_count": 32,
   "id": "2066fabb-b086-4333-8996-a7e2f2e37cd7",
   "metadata": {},
   "outputs": [],
   "source": [
    "# Drawing a Arrow line\n",
    "arrowline = cv2.arrowedLine(canvas,(400,400),(400,470),(255,255,255),2,tipLength=0.3)"
   ]
  },
  {
   "cell_type": "code",
   "execution_count": 33,
   "id": "bfb409b7-25e8-4dad-9016-f3319d17c731",
   "metadata": {},
   "outputs": [
    {
     "data": {
      "text/plain": [
       "-1"
      ]
     },
     "execution_count": 33,
     "metadata": {},
     "output_type": "execute_result"
    }
   ],
   "source": [
    "cv2.imshow('Text Image',arrowline)\n",
    "cv2.waitKey(0)"
   ]
  },
  {
   "cell_type": "code",
   "execution_count": 35,
   "id": "6573338f-6da6-4534-bb55-15ab9f3af0c2",
   "metadata": {},
   "outputs": [],
   "source": [
    "# Drawing a Polygon\n",
    "pts = np.array([[250,5],[220,80],[280,80]],np.int32)\n",
    "pts = pts.reshape((-1,1,2))\n",
    "\n",
    "polygon = cv2.polylines(canvas,[pts],True,(0,255,0),3)"
   ]
  },
  {
   "cell_type": "code",
   "execution_count": 37,
   "id": "b56afd8a-ef7e-48da-aeef-e9b63608a776",
   "metadata": {},
   "outputs": [
    {
     "data": {
      "text/plain": [
       "-1"
      ]
     },
     "execution_count": 37,
     "metadata": {},
     "output_type": "execute_result"
    }
   ],
   "source": [
    "cv2.imshow('Text Image',polygon)\n",
    "cv2.waitKey(0)"
   ]
  },
  {
   "cell_type": "code",
   "execution_count": 62,
   "id": "77d9406a-37f6-4e6d-b118-bfce19d0d09d",
   "metadata": {},
   "outputs": [],
   "source": [
    "#Drawing Texts\n",
    "fonts = [\n",
    "    cv2.FONT_HERSHEY_COMPLEX,\n",
    "    cv2.FONT_HERSHEY_DUPLEX,\n",
    "    cv2.FONT_HERSHEY_PLAIN,\n",
    "    cv2.FONT_HERSHEY_SCRIPT_SIMPLEX\n",
    "]\n",
    "\n",
    "position = (40,30)\n",
    "for i in range(0,4):\n",
    "    cv2.putText(canvas,\"I am Deba\",position,fonts[i],1,(255,255,255),2,cv2.LINE_AA)\n",
    "    position = (position[0],position[1]+40)"
   ]
  },
  {
   "cell_type": "code",
   "execution_count": 63,
   "id": "63bbab4c-6fc6-4c86-9989-d94857cc0b90",
   "metadata": {},
   "outputs": [
    {
     "data": {
      "text/plain": [
       "-1"
      ]
     },
     "execution_count": 63,
     "metadata": {},
     "output_type": "execute_result"
    }
   ],
   "source": [
    "cv2.imshow('Text Image',canvas)\n",
    "cv2.waitKey(0)"
   ]
  },
  {
   "cell_type": "markdown",
   "id": "7e9e9460",
   "metadata": {},
   "source": [
    "## Analog Clock"
   ]
  },
  {
   "cell_type": "code",
   "execution_count": 9,
   "id": "4e916647",
   "metadata": {},
   "outputs": [],
   "source": [
    "import cv2\n",
    "import numpy as np"
   ]
  },
  {
   "cell_type": "code",
   "execution_count": 16,
   "id": "71b92852",
   "metadata": {},
   "outputs": [
    {
     "data": {
      "text/plain": [
       "-1"
      ]
     },
     "execution_count": 16,
     "metadata": {},
     "output_type": "execute_result"
    }
   ],
   "source": [
    "# Creating a canvas of three channel 500 X 500 pixels\n",
    "canvas = np.zeros((640,640,3),dtype = np.uint8)\n",
    "cv2.imshow('Text Image',canvas)\n",
    "cv2.waitKey(0)"
   ]
  },
  {
   "cell_type": "code",
   "execution_count": 11,
   "id": "1a1ef0dd",
   "metadata": {},
   "outputs": [],
   "source": [
    "x_coordinate = 580\n",
    "y_coordinate = 320\n",
    "hour_init = (x_coordinate,y_coordinate)\n",
    "\n",
    "x_coordinate = 560 # 320 - ((260-20) * cos(0))\n",
    "y_coordinate = 320 # 320 - ((260-20) * sin(0))\n",
    "hour_dest = (x_coordinate,y_coordinate)"
   ]
  },
  {
   "cell_type": "code",
   "execution_count": 12,
   "id": "48c40129",
   "metadata": {},
   "outputs": [],
   "source": [
    "line = cv2.line(canvas,hour_init,hour_dest,(0,255,0),2,cv2.LINE_AA)"
   ]
  },
  {
   "cell_type": "code",
   "execution_count": 13,
   "id": "408dbde9",
   "metadata": {},
   "outputs": [
    {
     "data": {
      "text/plain": [
       "-1"
      ]
     },
     "execution_count": 13,
     "metadata": {},
     "output_type": "execute_result"
    }
   ],
   "source": [
    "cv2.imshow('Text Image',canvas)\n",
    "cv2.waitKey(0)"
   ]
  },
  {
   "cell_type": "code",
   "execution_count": 14,
   "id": "fe96f605",
   "metadata": {},
   "outputs": [],
   "source": [
    "circle = cv2.circle(canvas,(320,320),260,(255,0,0),2)"
   ]
  },
  {
   "cell_type": "code",
   "execution_count": 15,
   "id": "dcdc4430",
   "metadata": {},
   "outputs": [
    {
     "data": {
      "text/plain": [
       "-1"
      ]
     },
     "execution_count": 15,
     "metadata": {},
     "output_type": "execute_result"
    }
   ],
   "source": [
    "cv2.imshow('Text Image',canvas)\n",
    "cv2.waitKey(0)"
   ]
  },
  {
   "cell_type": "code",
   "execution_count": 17,
   "id": "09749bc5",
   "metadata": {},
   "outputs": [
    {
     "data": {
      "text/plain": [
       "-1"
      ]
     },
     "execution_count": 17,
     "metadata": {},
     "output_type": "execute_result"
    }
   ],
   "source": [
    "\n",
    "canvas[:] = [255,255,255]\n",
    "cv2.imshow('Text Image',canvas)\n",
    "cv2.waitKey(0)"
   ]
  },
  {
   "cell_type": "code",
   "execution_count": 22,
   "id": "5dbd5568",
   "metadata": {},
   "outputs": [
    {
     "data": {
      "text/plain": [
       "datetime.datetime(2024, 9, 20, 16, 25, 5, 668723)"
      ]
     },
     "execution_count": 22,
     "metadata": {},
     "output_type": "execute_result"
    }
   ],
   "source": [
    "from datetime import datetime\n",
    "timenow = datetime.now()\n",
    "timenow"
   ]
  },
  {
   "cell_type": "code",
   "execution_count": 35,
   "id": "176a408b",
   "metadata": {},
   "outputs": [
    {
     "data": {
      "text/plain": [
       "31"
      ]
     },
     "execution_count": 35,
     "metadata": {},
     "output_type": "execute_result"
    }
   ],
   "source": [
    "import datetime\n",
    "timenow = datetime.datetime.now()\n",
    "timenow.second"
   ]
  },
  {
   "cell_type": "code",
   "execution_count": 21,
   "id": "0382c2c0",
   "metadata": {},
   "outputs": [
    {
     "name": "stdout",
     "output_type": "stream",
     "text": [
      "[[100. 100. 100. ... 100. 100. 100.]\n",
      " [100. 100. 100. ... 100. 100. 100.]\n",
      " [100. 100. 100. ... 100. 100. 100.]\n",
      " ...\n",
      " [100. 100. 100. ... 100. 100. 100.]\n",
      " [100. 100. 100. ... 100. 100. 100.]\n",
      " [100. 100. 100. ... 100. 100. 100.]]\n"
     ]
    }
   ],
   "source": [
    "# Drawing\n",
    "image = np.zeros((500,500))\n",
    "image[:,:] = 100\n",
    "print(image)\n"
   ]
  },
  {
   "cell_type": "code",
   "execution_count": 22,
   "id": "5fb65ad2",
   "metadata": {},
   "outputs": [
    {
     "data": {
      "text/plain": [
       "-1"
      ]
     },
     "execution_count": 22,
     "metadata": {},
     "output_type": "execute_result"
    }
   ],
   "source": [
    "image[0:100,0:100]=0\n",
    "cv2.imshow('First 100 pixel black',image)\n",
    "cv2.waitKey(0)"
   ]
  },
  {
   "cell_type": "code",
   "execution_count": 23,
   "id": "720fbe17",
   "metadata": {},
   "outputs": [
    {
     "data": {
      "text/plain": [
       "-1"
      ]
     },
     "execution_count": 23,
     "metadata": {},
     "output_type": "execute_result"
    }
   ],
   "source": [
    "image[200:300,0:100]=0\n",
    "cv2.imshow('Second 100 pixel black',image)\n",
    "cv2.waitKey(0)"
   ]
  },
  {
   "cell_type": "code",
   "execution_count": 24,
   "id": "2eeb3e06",
   "metadata": {},
   "outputs": [
    {
     "data": {
      "text/plain": [
       "-1"
      ]
     },
     "execution_count": 24,
     "metadata": {},
     "output_type": "execute_result"
    }
   ],
   "source": [
    "image[400:500,0:100]=0\n",
    "cv2.imshow('Third 100 pixel black',image)\n",
    "cv2.waitKey(0)"
   ]
  },
  {
   "cell_type": "code",
   "execution_count": 25,
   "id": "3c729400",
   "metadata": {},
   "outputs": [
    {
     "data": {
      "text/plain": [
       "-1"
      ]
     },
     "execution_count": 25,
     "metadata": {},
     "output_type": "execute_result"
    }
   ],
   "source": [
    "image[100:200,100:200]=0\n",
    "cv2.imshow('First column 100 pixel black',image)\n",
    "cv2.waitKey(0)"
   ]
  },
  {
   "cell_type": "code",
   "execution_count": 26,
   "id": "67fcd42f",
   "metadata": {},
   "outputs": [
    {
     "data": {
      "text/plain": [
       "-1"
      ]
     },
     "execution_count": 26,
     "metadata": {},
     "output_type": "execute_result"
    }
   ],
   "source": [
    "image[300:400,100:200]=0\n",
    "cv2.imshow('Second column 100 pixel black',image)\n",
    "cv2.waitKey(0)"
   ]
  },
  {
   "cell_type": "code",
   "execution_count": 27,
   "id": "578dd5fa",
   "metadata": {},
   "outputs": [
    {
     "data": {
      "text/plain": [
       "-1"
      ]
     },
     "execution_count": 27,
     "metadata": {},
     "output_type": "execute_result"
    }
   ],
   "source": [
    "image[0:100,200:300]=0\n",
    "image[0:100,400:500]=0\n",
    "cv2.imshow('100 pixel black',image)\n",
    "cv2.waitKey(0)"
   ]
  },
  {
   "cell_type": "code",
   "execution_count": 29,
   "id": "b145479f",
   "metadata": {},
   "outputs": [
    {
     "data": {
      "text/plain": [
       "-1"
      ]
     },
     "execution_count": 29,
     "metadata": {},
     "output_type": "execute_result"
    }
   ],
   "source": [
    "image[100:200,300:400]=0\n",
    "cv2.imshow('100 pixel black',image)\n",
    "cv2.waitKey(0)"
   ]
  },
  {
   "cell_type": "code",
   "execution_count": 33,
   "id": "62da25af",
   "metadata": {},
   "outputs": [
    {
     "data": {
      "text/plain": [
       "-1"
      ]
     },
     "execution_count": 33,
     "metadata": {},
     "output_type": "execute_result"
    }
   ],
   "source": [
    "image[200:300,200:300]=0\n",
    "image[400:500,200:300]=0\n",
    "cv2.imshow('100 pixel black',image)\n",
    "cv2.waitKey(0)"
   ]
  },
  {
   "cell_type": "code",
   "execution_count": 35,
   "id": "41fe94b1",
   "metadata": {},
   "outputs": [
    {
     "data": {
      "text/plain": [
       "-1"
      ]
     },
     "execution_count": 35,
     "metadata": {},
     "output_type": "execute_result"
    }
   ],
   "source": [
    "image[300:400,300:400]=0\n",
    "cv2.imshow('100 pixel black',image)\n",
    "cv2.waitKey(0)"
   ]
  },
  {
   "cell_type": "code",
   "execution_count": 37,
   "id": "0eb44aca",
   "metadata": {},
   "outputs": [
    {
     "data": {
      "text/plain": [
       "-1"
      ]
     },
     "execution_count": 37,
     "metadata": {},
     "output_type": "execute_result"
    }
   ],
   "source": [
    "image[200:300,400:500]=0\n",
    "image[400:500,400:500]=0\n",
    "cv2.imshow('Chess Board',image)\n",
    "cv2.waitKey(0)"
   ]
  },
  {
   "cell_type": "code",
   "execution_count": 38,
   "id": "4078ea89",
   "metadata": {},
   "outputs": [
    {
     "data": {
      "text/plain": [
       "True"
      ]
     },
     "execution_count": 38,
     "metadata": {},
     "output_type": "execute_result"
    }
   ],
   "source": [
    "cv2.imwrite(\"Chess Board.jpg\",image)"
   ]
  },
  {
   "cell_type": "code",
   "execution_count": null,
   "id": "07fc4c12",
   "metadata": {},
   "outputs": [],
   "source": []
  }
 ],
 "metadata": {
  "kernelspec": {
   "display_name": "Python 3",
   "language": "python",
   "name": "python3"
  },
  "language_info": {
   "codemirror_mode": {
    "name": "ipython",
    "version": 3
   },
   "file_extension": ".py",
   "mimetype": "text/x-python",
   "name": "python",
   "nbconvert_exporter": "python",
   "pygments_lexer": "ipython3",
   "version": "3.11.9"
  }
 },
 "nbformat": 4,
 "nbformat_minor": 5
}
