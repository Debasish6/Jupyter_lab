{
 "cells": [
  {
   "cell_type": "markdown",
   "id": "a94abd6d-9c32-4429-8c05-dc4d4260fb92",
   "metadata": {},
   "source": [
    "# Object Detection using OpenCV"
   ]
  },
  {
   "cell_type": "code",
   "execution_count": 24,
   "id": "e3ad6190-0624-43f3-beff-7ab0972dd5e0",
   "metadata": {},
   "outputs": [],
   "source": [
    "# Importing some importatnt libraries\n",
    "import cv2\n",
    "import matplotlib.pyplot as plt"
   ]
  },
  {
   "cell_type": "code",
   "execution_count": 25,
   "id": "09d34422-6c2b-4e15-9f85-4847f68731e2",
   "metadata": {},
   "outputs": [],
   "source": [
    "config_file = 'ssd_mobilenet_v3_large_coco_2020_01_14.pbtxt'\n",
    "frozen_model = 'frozen_inference_graph.pb'"
   ]
  },
  {
   "cell_type": "code",
   "execution_count": 26,
   "id": "c0cd1fe7-797f-4525-b596-bd0d08788b3c",
   "metadata": {},
   "outputs": [],
   "source": [
    "# Creating a Model\n",
    "model = cv2.dnn_DetectionModel(frozen_model,config_file)"
   ]
  },
  {
   "cell_type": "code",
   "execution_count": 27,
   "id": "07c4e044-3508-42f2-ac63-4eade864f57b",
   "metadata": {},
   "outputs": [
    {
     "name": "stdout",
     "output_type": "stream",
     "text": [
      "['person', 'bicycle', 'car', 'motorbike', 'aeroplane', 'bus', 'train', 'truck', 'boat', 'traffic light', 'fire hydrant', 'stop sign', 'parking meter', 'bench', 'bird', 'cat', 'dog', 'horse', 'sheep', 'cow', 'elephant', 'bear', 'zebra', 'giraffe', 'backpack', 'umbrella', 'handbag', 'tie', 'suitcase', 'frisbee', 'skis', 'snowboard', 'sports ball', 'kite', 'baseball bat', 'baseball glove', 'skateboard', 'surfboard', 'tennis racket', 'bottle', 'wine glass', 'cup', 'fork', 'knife', 'spoon', 'bowl', 'banana', 'apple', 'sandwich', 'orange', 'broccoli', 'carrot', 'hot dog', 'pizza', 'donut', 'cake', 'chair', 'sofa', 'pottedplant', 'bed', 'diningtable', 'toilet', 'tvmonitor', 'laptop', 'mouse', 'remote', 'keyboard', 'cell phone', 'microwave', 'oven', 'toaster', 'sink', 'refrigerator', 'book', 'clock', 'vase', 'scissors', 'teddy bear', 'hair drier', 'toothbrush']\n",
      "No. of elements in classlabels is 80\n"
     ]
    }
   ],
   "source": [
    "classlabels = []\n",
    "file_name = 'labels.txt'\n",
    "with open(file_name,'rt') as file:\n",
    "    classlabels = file.read().split('\\n')\n",
    "    \n",
    "print(classlabels)\n",
    "print('No. of elements in classlabels is',len(classlabels))"
   ]
  },
  {
   "cell_type": "code",
   "execution_count": 28,
   "id": "c15f8344",
   "metadata": {},
   "outputs": [
    {
     "data": {
      "text/plain": [
       "< cv2.dnn.Model 000002B131A29F70>"
      ]
     },
     "execution_count": 28,
     "metadata": {},
     "output_type": "execute_result"
    }
   ],
   "source": [
    "model.setInputSize(320,320)\n",
    "model.setInputScale(1.0/127.5)\n",
    "model.setInputMean((127.5,127.5,127.5))\n",
    "model.setInputSwapRB(True)"
   ]
  },
  {
   "cell_type": "code",
   "execution_count": 135,
   "id": "9165f39b",
   "metadata": {},
   "outputs": [
    {
     "data": {
      "text/plain": [
       "-1"
      ]
     },
     "execution_count": 135,
     "metadata": {},
     "output_type": "execute_result"
    }
   ],
   "source": [
    "# Opening an Image\n",
    "image = cv2.imread(\"highway-traffic.jpg\")\n",
    "cv2.imshow('Boy Image',image)\n",
    "cv2.waitKey(0)"
   ]
  },
  {
   "cell_type": "code",
   "execution_count": 136,
   "id": "9a491f17",
   "metadata": {},
   "outputs": [],
   "source": [
    "# Predicting Class\n",
    "classIndex, confidance, boundary_box = model.detect(image,confThreshold=0.5) "
   ]
  },
  {
   "cell_type": "code",
   "execution_count": 137,
   "id": "b5b1d8c6",
   "metadata": {},
   "outputs": [
    {
     "data": {
      "text/plain": [
       "array([10,  1,  1,  3,  1,  4,  1,  3,  4,  4, 10,  1,  4])"
      ]
     },
     "execution_count": 137,
     "metadata": {},
     "output_type": "execute_result"
    }
   ],
   "source": [
    "classIndex"
   ]
  },
  {
   "cell_type": "code",
   "execution_count": 138,
   "id": "39a8ab7a",
   "metadata": {},
   "outputs": [],
   "source": [
    "# Drawing Rectangle\n",
    "for classInd, confi, boxes in zip(classIndex.flatten(),confidance.flatten(),boundary_box):\n",
    "    cv2.rectangle(image,boxes,(0,255,0),2)\n",
    "    cv2.putText(image,classlabels[classInd-1],(boxes[0]+10,boxes[1]+40),cv2.FONT_HERSHEY_COMPLEX,1,(0,255,0),3)"
   ]
  },
  {
   "cell_type": "code",
   "execution_count": 139,
   "id": "ac63df1a",
   "metadata": {},
   "outputs": [
    {
     "data": {
      "text/plain": [
       "-1"
      ]
     },
     "execution_count": 139,
     "metadata": {},
     "output_type": "execute_result"
    }
   ],
   "source": [
    "cv2.imshow('Boy Image',image)\n",
    "cv2.waitKey(0)"
   ]
  },
  {
   "cell_type": "code",
   "execution_count": null,
   "id": "193cc789",
   "metadata": {},
   "outputs": [],
   "source": [
    "# Doing object detection in a Video file\n",
    "\n",
    "cap = cv2.VideoCapture()"
   ]
  }
 ],
 "metadata": {
  "kernelspec": {
   "display_name": "Python 3 (ipykernel)",
   "language": "python",
   "name": "python3"
  },
  "language_info": {
   "codemirror_mode": {
    "name": "ipython",
    "version": 3
   },
   "file_extension": ".py",
   "mimetype": "text/x-python",
   "name": "python",
   "nbconvert_exporter": "python",
   "pygments_lexer": "ipython3",
   "version": "3.11.9"
  }
 },
 "nbformat": 4,
 "nbformat_minor": 5
}
