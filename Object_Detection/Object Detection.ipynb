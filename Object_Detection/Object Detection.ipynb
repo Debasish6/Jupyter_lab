{
 "cells": [
  {
   "cell_type": "markdown",
   "id": "a94abd6d-9c32-4429-8c05-dc4d4260fb92",
   "metadata": {},
   "source": [
    "# Object Detection using OpenCV"
   ]
  },
  {
   "cell_type": "code",
   "execution_count": 1,
   "id": "e3ad6190-0624-43f3-beff-7ab0972dd5e0",
   "metadata": {},
   "outputs": [],
   "source": [
    "# Importing some importatnt libraries\n",
    "import cv2\n",
    "import matplotlib.pyplot as plt"
   ]
  },
  {
   "cell_type": "code",
   "execution_count": 10,
   "id": "09d34422-6c2b-4e15-9f85-4847f68731e2",
   "metadata": {},
   "outputs": [],
   "source": [
    "config_file = 'ssd_mobilenet_v3_large_coco_2020_01_14.pbtxt'\n",
    "frozen_model = 'frozen_inference_graph.pb'"
   ]
  },
  {
   "cell_type": "code",
   "execution_count": 11,
   "id": "c0cd1fe7-797f-4525-b596-bd0d08788b3c",
   "metadata": {},
   "outputs": [],
   "source": [
    "# Creating a Model\n",
    "model = cv2.dnn_DetectionModel(frozen_model,config_file)"
   ]
  },
  {
   "cell_type": "code",
   "execution_count": null,
   "id": "07c4e044-3508-42f2-ac63-4eade864f57b",
   "metadata": {},
   "outputs": [],
   "source": [
    "classlabels = []\n",
    "file_name = 'labels.txt'\n",
    "with open(file_name,'rt') as file:\n",
    "    classlabels = file.read().rstrip('\\n') "
   ]
  }
 ],
 "metadata": {
  "kernelspec": {
   "display_name": "Python 3 (ipykernel)",
   "language": "python",
   "name": "python3"
  },
  "language_info": {
   "codemirror_mode": {
    "name": "ipython",
    "version": 3
   },
   "file_extension": ".py",
   "mimetype": "text/x-python",
   "name": "python",
   "nbconvert_exporter": "python",
   "pygments_lexer": "ipython3",
   "version": "3.11.9"
  }
 },
 "nbformat": 4,
 "nbformat_minor": 5
}
